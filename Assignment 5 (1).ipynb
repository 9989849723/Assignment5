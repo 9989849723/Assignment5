{
 "cells": [
  {
   "cell_type": "code",
   "execution_count": 1,
   "id": "a56ab129",
   "metadata": {},
   "outputs": [],
   "source": [
    "# 1. Define a function which will return Max of three numbers "
   ]
  },
  {
   "cell_type": "code",
   "execution_count": 4,
   "id": "b6c83e20",
   "metadata": {},
   "outputs": [],
   "source": [
    "def maxy(*a):\n",
    "    return max(a)"
   ]
  },
  {
   "cell_type": "code",
   "execution_count": 6,
   "id": "2ebeea0d",
   "metadata": {},
   "outputs": [
    {
     "data": {
      "text/plain": [
       "90"
      ]
     },
     "execution_count": 6,
     "metadata": {},
     "output_type": "execute_result"
    }
   ],
   "source": [
    "maxy(4,7,89,90)"
   ]
  },
  {
   "cell_type": "code",
   "execution_count": null,
   "id": "7507d8c7",
   "metadata": {},
   "outputs": [],
   "source": [
    "# 2. Define a Python Function to reverse a string.\n"
   ]
  },
  {
   "cell_type": "code",
   "execution_count": 10,
   "id": "cdf0383b",
   "metadata": {},
   "outputs": [],
   "source": [
    "def rev(s):\n",
    "    return s[::-1]"
   ]
  },
  {
   "cell_type": "code",
   "execution_count": 11,
   "id": "6c059b4e",
   "metadata": {},
   "outputs": [
    {
     "data": {
      "text/plain": [
       "'nohtyP'"
      ]
     },
     "execution_count": 11,
     "metadata": {},
     "output_type": "execute_result"
    }
   ],
   "source": [
    "rev(\"Python\")"
   ]
  },
  {
   "cell_type": "code",
   "execution_count": null,
   "id": "2c641320",
   "metadata": {},
   "outputs": [],
   "source": [
    "# 3. Write a Python program to define a function that accepts 2 values and return its sum, subtraction and multiplication."
   ]
  },
  {
   "cell_type": "code",
   "execution_count": 1,
   "id": "22b5fab5",
   "metadata": {},
   "outputs": [],
   "source": [
    "def val(a,b):\n",
    "    return a+b,a-b,a*b"
   ]
  },
  {
   "cell_type": "code",
   "execution_count": 2,
   "id": "e098c569",
   "metadata": {},
   "outputs": [
    {
     "data": {
      "text/plain": [
       "(7, -1, 12)"
      ]
     },
     "execution_count": 2,
     "metadata": {},
     "output_type": "execute_result"
    }
   ],
   "source": [
    "val(3,4)"
   ]
  },
  {
   "cell_type": "code",
   "execution_count": null,
   "id": "4ce2fe72",
   "metadata": {},
   "outputs": [],
   "source": [
    "# 4. Define a function that accepts roll number and returns whether the student is present or absent."
   ]
  },
  {
   "cell_type": "code",
   "execution_count": 10,
   "id": "0f998b93",
   "metadata": {},
   "outputs": [],
   "source": [
    "student_info={1:\"manoj\",2:\"teja\",3:\"sidhu\",4:\"ameem\",5:\"keerthi\",6:\"bhagya\"}\n",
    "def attendence(*rollnum):\n",
    "    keys=student_info.keys()\n",
    "    for num in keys:\n",
    "        if num in rollnum:  \n",
    "            print(\"{} is present\".format(student_info[num]))\n",
    "        else:\n",
    "            print(\"{} is absent\".format(student_info[num]))\n",
    "\n"
   ]
  },
  {
   "cell_type": "code",
   "execution_count": 11,
   "id": "d83c3229",
   "metadata": {},
   "outputs": [
    {
     "name": "stdout",
     "output_type": "stream",
     "text": [
      "manoj is present\n",
      "teja is present\n",
      "sidhu is absent\n",
      "ameem is present\n",
      "keerthi is present\n",
      "bhagya is absent\n"
     ]
    }
   ],
   "source": [
    "attendence(1,2,4,5,)"
   ]
  },
  {
   "cell_type": "code",
   "execution_count": null,
   "id": "7b8beb5b",
   "metadata": {},
   "outputs": [],
   "source": [
    "# 5. Define a function in python that accepts n values and returns the maximum of n numbers"
   ]
  },
  {
   "cell_type": "code",
   "execution_count": 2,
   "id": "84e6c889",
   "metadata": {},
   "outputs": [
    {
     "data": {
      "text/plain": [
       "'max num : 100'"
      ]
     },
     "execution_count": 2,
     "metadata": {},
     "output_type": "execute_result"
    }
   ],
   "source": [
    "def maxi(*num):\n",
    "    return \"max num : {}\".format(max(num))\n",
    "maxi(1,23,34,45,56,67,78,89,100)"
   ]
  },
  {
   "cell_type": "code",
   "execution_count": null,
   "id": "4eea5647",
   "metadata": {},
   "outputs": [],
   "source": [
    "#6. Define a function which counts vowels and consonant in a word. "
   ]
  },
  {
   "cell_type": "code",
   "execution_count": 4,
   "id": "8298d361",
   "metadata": {},
   "outputs": [
    {
     "name": "stdout",
     "output_type": "stream",
     "text": [
      "total vowels in given string =8\n",
      "total consonant in given string =11\n"
     ]
    }
   ],
   "source": [
    "def alphabets(a):\n",
    "    vowels=[\"A\",\"E\",\"I\",\"O\",\"U\",\"a\",\"e\",\"i\",\"o\",\"u\"]\n",
    "    v=0\n",
    "    c=0\n",
    "    for letters in a:\n",
    "        if letters in vowels:\n",
    "            v+=1\n",
    "        else:\n",
    "            c+=1\n",
    "    print(\"total vowels in given string ={}\".format(v))\n",
    "    print(\"total consonant in given string ={}\".format(c))\n",
    "alphabets(\"manojmuthinenivarma\")"
   ]
  },
  {
   "cell_type": "code",
   "execution_count": null,
   "id": "da5a500c",
   "metadata": {},
   "outputs": [],
   "source": [
    "#7. Define a function that returns Factorial of a number"
   ]
  },
  {
   "cell_type": "code",
   "execution_count": 5,
   "id": "6024bfb3",
   "metadata": {},
   "outputs": [
    {
     "data": {
      "text/plain": [
       "120"
      ]
     },
     "execution_count": 5,
     "metadata": {},
     "output_type": "execute_result"
    }
   ],
   "source": [
    "def factorial(num):\n",
    "    f=1\n",
    "    for num in range(1,num+1):\n",
    "        f*=num\n",
    "    return f\n",
    "factorial(5)"
   ]
  },
  {
   "cell_type": "code",
   "execution_count": null,
   "id": "ee3c75d0",
   "metadata": {},
   "outputs": [],
   "source": [
    "#8. Define a function that accepts radius and returns the area of a circle."
   ]
  },
  {
   "cell_type": "code",
   "execution_count": 8,
   "id": "e22f0a8f",
   "metadata": {},
   "outputs": [
    {
     "data": {
      "text/plain": [
       "201.14285714285714"
      ]
     },
     "execution_count": 8,
     "metadata": {},
     "output_type": "execute_result"
    }
   ],
   "source": [
    "def area(rad):\n",
    "    pi=22/7\n",
    "    return pi*(rad**2)\n",
    "area(8)"
   ]
  },
  {
   "cell_type": "code",
   "execution_count": null,
   "id": "a538e84e",
   "metadata": {},
   "outputs": [],
   "source": [
    "#9. Define a function that takes a number as a parameter and check the number is prime or not."
   ]
  },
  {
   "cell_type": "code",
   "execution_count": 14,
   "id": "2f0f55e8",
   "metadata": {},
   "outputs": [
    {
     "data": {
      "text/plain": [
       "'the given number 234 is not a prime number'"
      ]
     },
     "execution_count": 14,
     "metadata": {},
     "output_type": "execute_result"
    }
   ],
   "source": [
    "def checkprime(num):\n",
    "    if num==2 or num==3:\n",
    "        return \"{} is a prime number\".format(num)\n",
    "    else:\n",
    "        return \"the given number {} is not a prime number\".format(num)\n",
    "checkprime(234)"
   ]
  },
  {
   "cell_type": "code",
   "execution_count": null,
   "id": "2df208be",
   "metadata": {},
   "outputs": [],
   "source": [
    "# 10. Mary wants to run a 25-mile marathon. When she attempts to sign up for the marathon, she notices the sign-up sheet doesn't directly state the marathon's length. Instead, the marathon's lengthis listed in small, different portions. Help Mary find out how long\n",
    "# the marathon actually is. So create a function that\n",
    "# ** Return True if the marathon is 25 miles long, otherwise, return\n",
    "False.\n",
    "# Examples :-\n",
    "# marathon_distance([1, 2, 3, 4]) ➞ False\n",
    "# marathon_distance([1, 9, 5, 8, 2]) ➞ True\n",
    "# marathon_distance([-6, 15, 4]) ➞ True\n",
    "# Notes Items in the list will always be integers\n",
    "# . Items in the list may be negative or positive, b"
   ]
  },
  {
   "cell_type": "code",
   "execution_count": 18,
   "id": "43cff071",
   "metadata": {},
   "outputs": [
    {
     "data": {
      "text/plain": [
       "'False'"
      ]
     },
     "execution_count": 18,
     "metadata": {},
     "output_type": "execute_result"
    }
   ],
   "source": [
    "def marathon_distance(list1):\n",
    "    sum=0\n",
    "    for i in range(len(list1)):\n",
    "        sum+=abs(list1[i])\n",
    "    if sum==25:\n",
    "        return \"True\"\n",
    "    else:\n",
    "        return \"False\"\n",
    "marathon_distance([1,2,3,4])"
   ]
  },
  {
   "cell_type": "code",
   "execution_count": null,
   "id": "81dc62d1",
   "metadata": {},
   "outputs": [],
   "source": [
    "# 11. Create a function that takes a number and returns True if the\n",
    "# number is automorphic, False if it isn't.\n",
    "# ** number n is automorphic if n^2 ends in n.\n",
    "# Example:\n",
    "# n=5, n^2=25\n",
    "# so 5 is an automorphic"
   ]
  },
  {
   "cell_type": "code",
   "execution_count": 19,
   "id": "26341eb5",
   "metadata": {},
   "outputs": [
    {
     "data": {
      "text/plain": [
       "'True'"
      ]
     },
     "execution_count": 19,
     "metadata": {},
     "output_type": "execute_result"
    }
   ],
   "source": [
    "def Automorp(n):\n",
    "    sq=n*n\n",
    "    length=len(str(n))\n",
    "    last_digit=sq%pow(10,length)\n",
    "    if last_digit==n:\n",
    "        return \"True\"\n",
    "    else:\n",
    "        return \"False\"\n",
    "Automorp(25)\n"
   ]
  },
  {
   "cell_type": "code",
   "execution_count": null,
   "id": "35b55499",
   "metadata": {},
   "outputs": [],
   "source": [
    "# 12) Create a function, that will take given a, b, c, and do the following:\n",
    "#  Add a to itself b times and Check if the result is divisible by c.\n",
    "#  and return true if it is divisible by c or false\n",
    "#Example:\n",
    " A=1\n",
    " B=2\n",
    " C=2\n",
    " So output is True because 1+1=2 and 2/2=0"
   ]
  },
  {
   "cell_type": "code",
   "execution_count": 20,
   "id": "3ab8616f",
   "metadata": {},
   "outputs": [
    {
     "data": {
      "text/plain": [
       "'True'"
      ]
     },
     "execution_count": 20,
     "metadata": {},
     "output_type": "execute_result"
    }
   ],
   "source": [
    "def Check(a,b,c):\n",
    "    result=a*b\n",
    "    if result%c==0:\n",
    "        return \"True\"\n",
    "    else:\n",
    "        return \"False\"\n",
    "Check(1,2,2) \n"
   ]
  },
  {
   "cell_type": "code",
   "execution_count": null,
   "id": "210d6d66",
   "metadata": {},
   "outputs": [],
   "source": [
    "# 13) Create a function that changes specific words into emoticons.\n",
    "#Given a sentence as a string, replace the words smile, grin, sad and mad  with their corresponding emoticons. word emoticon\n",
    "# smile :D\n",
    "# grin :)\n",
    "# sad :(\n",
    "# mad :P\n",
    "# Examples:\n",
    "# functionname(\"Make me smile\") ➞ \"Make me :D\"\n",
    "# functionname (\"Make me grin\") ➞ \"Make me :)\"\n",
    "# functionname (\"Make me sad\") ➞ \"Make me :(\""
   ]
  },
  {
   "cell_type": "code",
   "execution_count": 21,
   "id": "c2501b6b",
   "metadata": {},
   "outputs": [
    {
     "name": "stdout",
     "output_type": "stream",
     "text": [
      "Make me :D\n",
      "Make me :)\n",
      "Make me :P\n"
     ]
    }
   ],
   "source": [
    "def Emot(x):\n",
    "    s1=x.split(\" \")\n",
    "    s2=[\"smile\",\"grin\",\"sad\",\"mad\"]\n",
    "    s3=[\":D\",\":)\",\":(\",\":P\"]\n",
    "    for i in range(len(s1)):\n",
    "        if s1[i]==\"smile\":\n",
    "            s1[i]=\":D\"\n",
    "        elif s1[i]==\"grin\":\n",
    "            s1[i]=\":(\"\n",
    "        elif s1[i]==\"sad\":\n",
    "            s1[i]=\":)\"\n",
    "        elif s1[i]==\"mad\":\n",
    "            s1[i]=\":P\"\n",
    "    return \" \".join(s1)\n",
    "        \n",
    "print(Emot(\"Make me smile\"))\n",
    "print(Emot(\"Make me sad\"))\n",
    "print(Emot(\"Make me mad\"))"
   ]
  },
  {
   "cell_type": "code",
   "execution_count": null,
   "id": "62fd0605",
   "metadata": {},
   "outputs": [],
   "source": [
    "# 14) Write a Python program to square and cube every number in a given list of integers using Lambda"
   ]
  },
  {
   "cell_type": "code",
   "execution_count": 22,
   "id": "c48dd9fb",
   "metadata": {},
   "outputs": [
    {
     "name": "stdout",
     "output_type": "stream",
     "text": [
      "The square of numbers :[1, 4, 9, 16, 25, 36, 49, 64, 81, 100]\n",
      "The cube   of numbers :[1, 8, 27, 64, 125, 216, 343, 512, 729, 1000]\n"
     ]
    }
   ],
   "source": [
    "list1=[1,2,3,4,5,6,7,8,9,10]\n",
    "b=map(lambda x:x**2,list1)\n",
    "c=map(lambda x:x**3,list1)\n",
    "print(\"The square of numbers :{}\".format(list(b)))\n",
    "print(\"The cube   of numbers :{}\".format(list(c)))\n"
   ]
  },
  {
   "cell_type": "code",
   "execution_count": 15,
   "id": "76d39031",
   "metadata": {},
   "outputs": [],
   "source": [
    "# 15)Write a Python program to check whether a given string is number or not using Lambda"
   ]
  },
  {
   "cell_type": "code",
   "execution_count": 23,
   "id": "47cd2c71",
   "metadata": {},
   "outputs": [
    {
     "data": {
      "text/plain": [
       "True"
      ]
     },
     "execution_count": 23,
     "metadata": {},
     "output_type": "execute_result"
    }
   ],
   "source": [
    "x=\"innomatics\"\n",
    "b=lambda x:x.isdigit() \n",
    "b(\"1234\")\n"
   ]
  },
  {
   "cell_type": "code",
   "execution_count": null,
   "id": "9363ec69",
   "metadata": {},
   "outputs": [],
   "source": []
  }
 ],
 "metadata": {
  "kernelspec": {
   "display_name": "Python 3 (ipykernel)",
   "language": "python",
   "name": "python3"
  },
  "language_info": {
   "codemirror_mode": {
    "name": "ipython",
    "version": 3
   },
   "file_extension": ".py",
   "mimetype": "text/x-python",
   "name": "python",
   "nbconvert_exporter": "python",
   "pygments_lexer": "ipython3",
   "version": "3.9.13"
  }
 },
 "nbformat": 4,
 "nbformat_minor": 5
}
